{
 "cells": [
  {
   "cell_type": "code",
   "execution_count": 1,
   "metadata": {},
   "outputs": [],
   "source": [
    "#coding: utf-8\n",
    "import os\n",
    "import time\n",
    "import threading\n",
    "from queue import Queue\n",
    "\n",
    "from selenium import webdriver\n",
    "from selenium.webdriver.support.ui import WebDriverWait\n",
    "from selenium.webdriver.support import expected_conditions as EC\n",
    "from selenium.webdriver.common.by import By\n",
    "from selenium.webdriver.chrome.options import Options\n",
    "from selenium.webdriver.common.action_chains import ActionChains\n",
    "from selenium.webdriver.common.keys import Keys\n",
    "from googletrans import Translator\n",
    "\n",
    "import pyautogui"
   ]
  },
  {
   "cell_type": "code",
   "execution_count": 2,
   "metadata": {},
   "outputs": [],
   "source": [
    "woo_url = \"https://wootalk.today\"\n",
    "driver_name = 'chromedriver83.0.4103.39.exe'\n",
    "path = os.path.join('driver', driver_name)"
   ]
  },
  {
   "cell_type": "code",
   "execution_count": 3,
   "metadata": {},
   "outputs": [],
   "source": [
    "chrome_options = Options()\n",
    "driver = webdriver.Chrome(executable_path=path,\n",
    "                          options=chrome_options)   \n",
    "driver.get(woo_url)"
   ]
  },
  {
   "cell_type": "code",
   "execution_count": 4,
   "metadata": {},
   "outputs": [],
   "source": [
    "def synchronized(func):\n",
    "\n",
    "    func.__lock__ = threading.Lock()\n",
    "\n",
    "    def synced_func(*args, **kws):\n",
    "        with func.__lock__:\n",
    "            return func(*args, **kws)\n",
    "\n",
    "    return synced_func\n",
    "\n",
    "def synchronized_method(method):\n",
    "    \n",
    "    outer_lock = threading.Lock()\n",
    "    lock_name = \"__\"+method.__name__+\"_lock\"+\"__\"\n",
    "    \n",
    "    def sync_method(self, *args, **kws):\n",
    "        with outer_lock:\n",
    "            if not hasattr(self, lock_name): setattr(self, lock_name, threading.Lock())\n",
    "            lock = getattr(self, lock_name)\n",
    "            with lock:\n",
    "                return method(self, *args, **kws)  \n",
    "\n",
    "    return sync_method\n",
    "\n",
    "def synchronized_with_attr(lock_name):\n",
    "    \n",
    "    def decorator(method):\n",
    "\n",
    "        def synced_method(self, *args, **kws):\n",
    "            lock = getattr(self, lock_name)\n",
    "            with lock:\n",
    "                return method(self, *args, **kws)\n",
    "                \n",
    "        return synced_method\n",
    "\n",
    "    return decorator\n",
    "\n",
    "\n",
    "class setInterval:\n",
    "    def __init__(self, interval, action, fargs=(), fkwargs={}, *targs, **tkwargs) :\n",
    "        self.interval = interval\n",
    "        self.action = action\n",
    "        self.event = threading.Event()\n",
    "        thread = threading.Thread(target=self.__setInterval,\n",
    "                                  args=fargs, kwargs=fkwargs,\n",
    "                                  *targs, **tkwargs)\n",
    "        thread.start()\n",
    "\n",
    "    def __setInterval(self, *args, **kwargs) :\n",
    "        nextTime= time.time() + self.interval\n",
    "        while not self.event.wait(nextTime - time.time()):\n",
    "            nextTime += self.interval\n",
    "            self.action(*args, **kwargs)\n",
    "\n",
    "    def cancel(self) :\n",
    "        self.event.set()\n",
    "\n"
   ]
  },
  {
   "cell_type": "code",
   "execution_count": 279,
   "metadata": {},
   "outputs": [],
   "source": [
    "class MessageHandler:\n",
    "    script = \"\"\"\n",
    "get_text = () => {\n",
    "    let otherTexts = document.querySelectorAll('.stranger.text');\n",
    "    let msgs = []\n",
    "    let mids = []\n",
    "    function extractText(msg) {\n",
    "        msg = msg.textContent.split('陌生人：');\n",
    "        msg.shift();\n",
    "        msg = msg.join('陌生人：');\n",
    "        msg = msg.split(' (');\n",
    "        msg.pop();\n",
    "        msg = msg.join(' (');\n",
    "        return msg;\n",
    "    }\n",
    "\n",
    "    for (let otherText of otherTexts) {\n",
    "        msgs.push(extractText(otherText))\n",
    "        mids.push(parseInt(otherText.getAttribute('mid')))\n",
    "    }\n",
    "    return [msgs, mids];\n",
    "}\n",
    "\n",
    "_clearInput = () => {\n",
    "    messageInput.value = '';\n",
    "}\n",
    "\n",
    "send = (msg) => {\n",
    "    if (document.querySelector('#sendButton input').value != \"回報\") {\n",
    "        messageInput.value = msg;\n",
    "        sendMessage();\n",
    "    }\n",
    "}\n",
    "\"\"\"\n",
    "    _instance = None\n",
    "    _no_init = False\n",
    "    def __new__(cls, *args, **kwargs): \n",
    "        if cls._instance is None: \n",
    "            cls._instance = super().__new__(cls)\n",
    "        return cls._instance\n",
    "\n",
    "    def __init__(self, driver, force_init=False):\n",
    "        if self._no_init and not force_init:\n",
    "            return;\n",
    "        MessageHandler._no_init = True\n",
    "\n",
    "        self.lock = threading.Lock()\n",
    "\n",
    "        self.driver = driver\n",
    "        self.curr_index = 0\n",
    "        self.curr_msg = None\n",
    "        self.other_log_mid = -1\n",
    "        self.other_msgs = []\n",
    "        self.others_msgs = []\n",
    "        \n",
    "        self.__actions = {\n",
    "            'echo': self.echo,\n",
    "            'tran': self.tran,\n",
    "        }\n",
    "        self.driver.execute_script(self.script)\n",
    "        self.translator = Translator()\n",
    "        \n",
    "        if not hasattr(self, 'action_interval'):\n",
    "            self.action_interval = None\n",
    "        if not hasattr(self, 'auto_record_interval'):\n",
    "            self.auto_record_interval = None\n",
    "\n",
    "    def update_msgs(self):\n",
    "        otherTexts, other_mids = self.driver.execute_script(\"return get_text();\");\n",
    "        for i, otherText in enumerate(otherTexts):\n",
    "            if self.other_log_mid < other_mids[i]:\n",
    "                self.other_msgs.append(otherText)\n",
    "                self.other_log_mid = other_mids[i]\n",
    "        \n",
    "        if self.curr_index < len(self.other_msgs):\n",
    "            self.curr_msg = self.other_msgs[self.curr_index]\n",
    "\n",
    "    @synchronized_with_attr('lock')\n",
    "    def action(self, method, *args, **kwargs):\n",
    "        assert method in self.__actions, \"Method '%s' does not exists\" % method\n",
    "\n",
    "        # the method to handle message\n",
    "        if not self.driver.execute_script('return isLeave()'):\n",
    "            self.update_msgs()\n",
    "        if self.curr_index < len(self.other_msgs):\n",
    "            res_msg = self.__actions[method](*args, **kwargs)\n",
    "            self.send_message(res_msg)\n",
    "            self.curr_index += 1\n",
    "        \n",
    "    def send_message(self, msg):\n",
    "        self.driver.execute_script(f'send(\"{msg}\")')\n",
    "        \"\"\"\n",
    "        self.driver.execute_script('_clearInput()')\n",
    "        text_field = WebDriverWait(driver, 3).until(\n",
    "                    EC.presence_of_element_located((By.ID, 'messageInput')))\n",
    "        text_field.send_keys(msg)\n",
    "        text_field.send_keys(Keys.RETURN)\n",
    "        \"\"\"\n",
    "    def echo(self):\n",
    "        return self.curr_msg\n",
    "\n",
    "    def tran(self, dest='en'):\n",
    "        return self.translator.translate(self.curr_msg, dest=dest).text\n",
    "\n",
    "    @synchronized_with_attr('lock')\n",
    "    def record(self):\n",
    "        if len(self.other_msgs) != 0 and self.driver.execute_script('return isLeave()'):\n",
    "            self.others_msgs.append(self.other_msgs)\n",
    "            self.curr_index = 0\n",
    "            self.curr_msg = None\n",
    "            self.other_log_mid = -1\n",
    "            self.other_msgs = []\n",
    "        \n",
    "    def action_trigger(self, method, fargs=(), fkwargs={}, interval=0.2, *targs, **tkwargs):\n",
    "        if not self.action_interval:\n",
    "            self.action_interval = setInterval(interval, self.action, fargs=(method, *fargs), fkwargs=fkwargs, name=f'{method}')\n",
    "            print(f'start auto {method}')\n",
    "        else:\n",
    "            self.action_interval.cancel()\n",
    "            self.action_interval = None\n",
    "            print(f'stop auto {method}')\n",
    "            \n",
    "    def record_trigger(self):\n",
    "        if not self.auto_record_interval:\n",
    "            self.auto_record_interval = setInterval(0.4, self.record, name='record')\n",
    "            print(f'start auto record')\n",
    "        else:\n",
    "            self.auto_record_interval.cancel()\n",
    "            self.auto_record_interval = None\n",
    "            print(f'stop auto record')\n",
    "\n",
    "\n",
    "class WooControler:\n",
    "    script = \"\"\"\n",
    "    \n",
    "isLeave = () => {\n",
    "    let systemTexts = document.querySelectorAll('.system.text');\n",
    "    if (systemTexts.length <= 1) {\n",
    "        return true;\n",
    "    }\n",
    "    \n",
    "    systemTexts = systemTexts[systemTexts.length-2].textContent.split(\"離開\");\n",
    "    if (systemTexts.length >= 2 && systemTexts[1] == \"了，請按\") {\n",
    "        return true;\n",
    "    } else {\n",
    "        return false;\n",
    "    }\n",
    "}\n",
    "\n",
    "sendFirstMsg = (msg) => {\n",
    "    if (typeof(this.sendFirstMsgInterval) == \"undefined\" &&\n",
    "        document.querySelectorAll('.me.text').length == 0) {\n",
    "        let self = this;\n",
    "        this.sendFirstMsgInterval = setInterval(() => {\n",
    "            if (document.querySelectorAll('.me.text').length >= 1) {\n",
    "                clearInterval(self.sendFirstMsgInterval);\n",
    "                self.sendFirstMsgInterval = undefined;\n",
    "            } else {\n",
    "                document.getElementById('messageInput').value = msg\n",
    "                sendMessage();\n",
    "            }\n",
    "        }, 500);\n",
    "    }\n",
    "}\n",
    "\n",
    "autoRestart = (msg) => {\n",
    "    if (typeof(this.autoStartInterval) == \"undefined\") {\n",
    "        let self = this;\n",
    "        this.autoStartInterval = setInterval(() => {\n",
    "            let systemTexts = document.querySelectorAll('.system.text');\n",
    "            if (systemTexts[0].textContent == \"系統訊息：WooTalk系統出了一些狀況，我們正在緊急維護中😅請稍後即可繼續聊天至粉絲專頁獲取更多相關資訊\") {\n",
    "                setTimeout(() => {\n",
    "                    leave();\n",
    "                }, 30000);\n",
    "            } else if (systemTexts.length <= 1) {\n",
    "                clickStartChat();\n",
    "                if (typeof(msg) != \"undefined\") {\n",
    "                    sendFirstMsg(msg)\n",
    "                }\n",
    "            } else {\n",
    "                let checkleave = systemTexts[systemTexts.length-2].textContent.split(\"離開\");\n",
    "                if (checkleave.length >= 2 && checkleave[1] == \"了，請按\") {\n",
    "                    leave();\n",
    "                }\n",
    "            }\n",
    "        }, 2000);\n",
    "        return \"startAutoRestart\";\n",
    "    }\n",
    "    if (this.autoStartInterval) {\n",
    "        clearInterval(this.autoStartInterval);\n",
    "        this.autoStartInterval = undefined;\n",
    "        return \"stopAutoRestart\";\n",
    "    }\n",
    "}\n",
    "\n",
    "\n",
    "    \"\"\"\n",
    "    _instance = None\n",
    "    _no_init = False\n",
    "    def __new__(cls, *args, **kwargs):\n",
    "        if cls._instance is None: \n",
    "            cls._instance = super().__new__(cls) \n",
    "        return cls._instance\n",
    "\n",
    "    def __init__(self, driver, force_init=False):\n",
    "        if self._no_init and not force_init:\n",
    "            return;\n",
    "        WooControler._no_init = True\n",
    "\n",
    "        self.driver = driver\n",
    "        self.driver.execute_script(self.script)\n",
    "        if not hasattr(self, 'self.auto_restart_interval'):\n",
    "            self.auto_restart_interval = None\n",
    "\n",
    "\n",
    "    def click_start(self):\n",
    "        start_btn = WebDriverWait(self.driver, 3).until(\n",
    "                    EC.presence_of_element_located((By.ID, 'startButton')))\n",
    "        ActionChains(self.driver).move_to_element_with_offset(start_btn, 10, 10).click().perform()\n",
    "\n",
    "    def click_leave(self):\n",
    "        # Not working\n",
    "        leave_btn = WebDriverWait(self.driver, 3).until(\n",
    "                    EC.presence_of_element_located((By.ID, 'changeButton')))\n",
    "        ActionChains(self.driver).move_to_element_with_offset(leave_btn, 10, 10).click().perform()\n",
    "        popyes = WebDriverWait(self.driver, 30).until(\n",
    "                    EC.presence_of_element_located((By.ID, 'popup-yes')))\n",
    "        ActionChains(self.driver).move_to_element_with_offset(popyes, 10, 10).click().perform()\n",
    "\n",
    "    def restart_trigger(self, msg):\n",
    "        self.driver.execute_script(f'autoRestart(\"{msg}\")',)\n",
    "        if not self.auto_restart_interval:\n",
    "            self.driver.execute_script(f'autoRestart(\"{msg}\")',)\n",
    "            self.auto_restart_interval = True\n",
    "            print('start auto restart')\n",
    "        else:\n",
    "            self.auto_restart_interval = None\n",
    "            print('stop auto restart')\n",
    "\n",
    "    def leave(self):\n",
    "        self.driver.execute_script('leave()')\n",
    "    \n",
    "    def is_leave(self):\n",
    "        return self.driver.execute_script('return isLeave()')"
   ]
  },
  {
   "cell_type": "code",
   "execution_count": 280,
   "metadata": {},
   "outputs": [],
   "source": [
    "msgHl = MessageHandler(driver)\n",
    "wooCt = WooControler(driver)"
   ]
  },
  {
   "cell_type": "code",
   "execution_count": 281,
   "metadata": {},
   "outputs": [
    {
     "name": "stdout",
     "output_type": "stream",
     "text": [
      "start auto restart\n"
     ]
    }
   ],
   "source": [
    "wooCt.restart_trigger('你好，我是自動回覆機人第二版，我能加你所說的話翻成英文，雖然一樣沒用，但希望對您能有幫助')"
   ]
  },
  {
   "cell_type": "code",
   "execution_count": 282,
   "metadata": {},
   "outputs": [
    {
     "name": "stdout",
     "output_type": "stream",
     "text": [
      "start auto record\n"
     ]
    }
   ],
   "source": [
    "msgHl.record_trigger()"
   ]
  },
  {
   "cell_type": "code",
   "execution_count": 283,
   "metadata": {},
   "outputs": [
    {
     "name": "stdout",
     "output_type": "stream",
     "text": [
      "start auto tran\n"
     ]
    }
   ],
   "source": [
    "msgHl.action_trigger('tran')"
   ]
  },
  {
   "cell_type": "code",
   "execution_count": 284,
   "metadata": {},
   "outputs": [
    {
     "name": "stdout",
     "output_type": "stream",
     "text": [
      "stop auto restart\n"
     ]
    }
   ],
   "source": [
    "wooCt.restart_trigger('你好，我是自動回覆機人第二版，我能加你所說的話翻成英文，雖然一樣沒用，但希望對您能有幫助')"
   ]
  },
  {
   "cell_type": "code",
   "execution_count": 285,
   "metadata": {},
   "outputs": [
    {
     "name": "stdout",
     "output_type": "stream",
     "text": [
      "stop auto record\n"
     ]
    }
   ],
   "source": [
    "msgHl.record_trigger()"
   ]
  },
  {
   "cell_type": "code",
   "execution_count": 286,
   "metadata": {},
   "outputs": [
    {
     "name": "stdout",
     "output_type": "stream",
     "text": [
      "stop auto tran\n"
     ]
    }
   ],
   "source": [
    "msgHl.action_trigger('tran')"
   ]
  },
  {
   "cell_type": "code",
   "execution_count": 254,
   "metadata": {},
   "outputs": [
    {
     "name": "stdout",
     "output_type": "stream",
     "text": [
      "0\n",
      "[]\n",
      "[['好', '好', '好', '好', '很好', '非常好', '真假'], ['看來沒問題', '那是哪裡出錯呢', '自動刷人真的不行嘛', '武想應該可以吧']]\n"
     ]
    }
   ],
   "source": [
    "print(msgHl.curr_index)\n",
    "print(msgHl.other_msgs)\n",
    "print(msgHl.others_msgs)"
   ]
  },
  {
   "cell_type": "code",
   "execution_count": 278,
   "metadata": {},
   "outputs": [
    {
     "data": {
      "text/plain": [
       "[<_MainThread(MainThread, started 14048)>,\n",
       " <Thread(Thread-4, started daemon 3560)>,\n",
       " <Heartbeat(Thread-5, started daemon 25412)>,\n",
       " <HistorySavingThread(IPythonHistorySavingThread, started 29756)>,\n",
       " <ParentPollerWindows(Thread-3, started daemon 6628)>]"
      ]
     },
     "execution_count": 278,
     "metadata": {},
     "output_type": "execute_result"
    }
   ],
   "source": [
    "threading.enumerate()"
   ]
  }
 ],
 "metadata": {
  "kernelspec": {
   "display_name": "Python 3",
   "language": "python",
   "name": "python3"
  },
  "language_info": {
   "codemirror_mode": {
    "name": "ipython",
    "version": 3
   },
   "file_extension": ".py",
   "mimetype": "text/x-python",
   "name": "python",
   "nbconvert_exporter": "python",
   "pygments_lexer": "ipython3",
   "version": "3.7.7"
  }
 },
 "nbformat": 4,
 "nbformat_minor": 4
}
